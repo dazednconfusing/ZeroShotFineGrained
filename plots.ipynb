{
 "cells": [
  {
   "cell_type": "code",
   "execution_count": 1,
   "id": "twenty-truth",
   "metadata": {},
   "outputs": [],
   "source": [
    "import sys\n",
    "import os\n",
    "\n",
    "sys.path.append(os.getcwd())"
   ]
  },
  {
   "cell_type": "code",
   "execution_count": 2,
   "id": "hindu-melbourne",
   "metadata": {},
   "outputs": [
    {
     "name": "stderr",
     "output_type": "stream",
     "text": [
      "/opt/conda/lib/python3.7/site-packages/gensim/similarities/__init__.py:15: UserWarning: The gensim.similarities.levenshtein submodule is disabled, because the optional Levenshtein package <https://pypi.org/project/python-Levenshtein/> is unavailable. Install Levenhstein (e.g. `pip install python-Levenshtein`) to suppress this warning.\n",
      "  warnings.warn(msg)\n",
      "[nltk_data] Downloading package punkt to /home/jupyter/nltk_data...\n",
      "[nltk_data]   Package punkt is already up-to-date!\n"
     ]
    }
   ],
   "source": [
    "import numpy as np\n",
    "import torch\n",
    "import torch.nn as nn\n",
    "import torch.nn.functional as F\n",
    "from torch.utils.data import Dataset, DataLoader\n",
    "from tqdm import tqdm\n",
    "import scipy.io as sio\n",
    "import matplotlib.pyplot as plt\n",
    "\n",
    "from datasets.feature_dataset import FeatureDataset\n",
    "from datasets.resnet_dataset import ResnetDataset\n",
    "from dataloaders.CUBLoader import CUBFeatDataSet\n",
    "import utils.knn as knn"
   ]
  },
  {
   "cell_type": "code",
   "execution_count": 3,
   "id": "funky-lesson",
   "metadata": {},
   "outputs": [],
   "source": [
    "train_dataset = ResnetDataset(split='easy')\n",
    "img_feat, cl, rl, txt_feat = train_dataset.get_all_data()"
   ]
  },
  {
   "cell_type": "code",
   "execution_count": 4,
   "id": "supposed-burning",
   "metadata": {},
   "outputs": [
    {
     "data": {
      "text/plain": [
       "(8855, 2048)"
      ]
     },
     "execution_count": 4,
     "metadata": {},
     "output_type": "execute_result"
    }
   ],
   "source": [
    "img_feat.shape"
   ]
  },
  {
   "cell_type": "code",
   "execution_count": 5,
   "id": "iraqi-nicholas",
   "metadata": {},
   "outputs": [
    {
     "data": {
      "text/plain": [
       "(8855,)"
      ]
     },
     "execution_count": 5,
     "metadata": {},
     "output_type": "execute_result"
    }
   ],
   "source": [
    "cl.shape"
   ]
  },
  {
   "cell_type": "code",
   "execution_count": 6,
   "id": "complimentary-ozone",
   "metadata": {},
   "outputs": [],
   "source": [
    "from sklearn.preprocessing import StandardScaler\n",
    "\n",
    "scaler = StandardScaler()\n",
    "scaler.fit(img_feat)\n",
    "X_scaled = scaler.transform(img_feat)"
   ]
  },
  {
   "cell_type": "code",
   "execution_count": 7,
   "id": "educational-recipe",
   "metadata": {},
   "outputs": [
    {
     "data": {
      "text/plain": [
       "(8855, 2048)"
      ]
     },
     "execution_count": 7,
     "metadata": {},
     "output_type": "execute_result"
    }
   ],
   "source": [
    "img_feat.shape"
   ]
  },
  {
   "cell_type": "code",
   "execution_count": 8,
   "id": "previous-suite",
   "metadata": {},
   "outputs": [],
   "source": [
    "from sklearn.manifold import TSNE"
   ]
  },
  {
   "cell_type": "code",
   "execution_count": 9,
   "id": "african-regulation",
   "metadata": {},
   "outputs": [],
   "source": [
    "img_feat_embedded = TSNE(n_components=2).fit_transform(X_scaled)"
   ]
  },
  {
   "cell_type": "code",
   "execution_count": 10,
   "id": "danish-sperm",
   "metadata": {},
   "outputs": [
    {
     "data": {
      "text/plain": [
       "(8855, 2)"
      ]
     },
     "execution_count": 10,
     "metadata": {},
     "output_type": "execute_result"
    }
   ],
   "source": [
    "img_feat_embedded.shape"
   ]
  },
  {
   "cell_type": "code",
   "execution_count": 11,
   "id": "personal-bottom",
   "metadata": {},
   "outputs": [],
   "source": [
    "tsne = img_feat_embedded"
   ]
  },
  {
   "cell_type": "code",
   "execution_count": 12,
   "id": "competent-perry",
   "metadata": {},
   "outputs": [],
   "source": [
    "def scale(x):\n",
    "    return (x-np.min(x))/(np.max(x) - np.min(x))"
   ]
  },
  {
   "cell_type": "code",
   "execution_count": 13,
   "id": "planned-cheese",
   "metadata": {},
   "outputs": [],
   "source": [
    "tx = tsne[:, 0]\n",
    "ty = tsne[:, 1]"
   ]
  },
  {
   "cell_type": "code",
   "execution_count": 14,
   "id": "julian-owner",
   "metadata": {},
   "outputs": [
    {
     "data": {
      "text/plain": [
       "((8855,), (8855,))"
      ]
     },
     "execution_count": 14,
     "metadata": {},
     "output_type": "execute_result"
    }
   ],
   "source": [
    "tx = scale(tx)\n",
    "ty = scale(ty)\n",
    "tx.shape, ty.shape"
   ]
  },
  {
   "cell_type": "code",
   "execution_count": 15,
   "id": "productive-disability",
   "metadata": {},
   "outputs": [],
   "source": [
    "import matplotlib.pyplot as plt"
   ]
  },
  {
   "cell_type": "code",
   "execution_count": 16,
   "id": "worst-exemption",
   "metadata": {},
   "outputs": [
    {
     "data": {
      "image/png": "[encoded data removed]",
      "text/plain": [
       "<Figure size 432x288 with 1 Axes>"
      ]
     },
     "metadata": {
      "needs_background": "light"
     },
     "output_type": "display_data"
    }
   ],
   "source": [
    "fig = plt.figure()\n",
    "ax = fig.add_subplot(111)\n",
    "\n",
    "labels = np.unique(cl)[:10]\n",
    "\n",
    "for l in labels:\n",
    "    mask = cl == l\n",
    "    curr_tx, curr_ty = tx[mask], ty[mask]\n",
    "    ax.scatter(curr_tx, curr_ty, label=l)\n",
    "\n",
    "ax.set_title('ResNet Visualization')\n",
    "ax.legend(loc='best')\n",
    "# plt.show()\n",
    "plt.savefig('plots/ResNet_easy.png')"
   ]
  },
  {
   "cell_type": "code",
   "execution_count": 17,
   "id": "animal-ballet",
   "metadata": {},
   "outputs": [
    {
     "data": {
      "text/plain": [
       "<Figure size 432x288 with 0 Axes>"
      ]
     },
     "metadata": {},
     "output_type": "display_data"
    }
   ],
   "source": [
    "# VPDE\n",
    "plt.clf()"
   ]
  },
  {
   "cell_type": "code",
   "execution_count": 18,
   "id": "final-chance",
   "metadata": {},
   "outputs": [],
   "source": [
    "VPDE_dataset = CUBFeatDataSet(folder_path='data/CUB2011_2', split='easy', model='vanilla', train=True)"
   ]
  },
  {
   "cell_type": "code",
   "execution_count": 19,
   "id": "smooth-label",
   "metadata": {},
   "outputs": [],
   "source": [
    "img_feat_vpde, cl_vpde, rl_vpde, txt_feat_vpde = VPDE_dataset.get_all_data()"
   ]
  },
  {
   "cell_type": "code",
   "execution_count": 20,
   "id": "extreme-warehouse",
   "metadata": {},
   "outputs": [
    {
     "data": {
      "text/plain": [
       "((8855, 3584), (8855,))"
      ]
     },
     "execution_count": 20,
     "metadata": {},
     "output_type": "execute_result"
    }
   ],
   "source": [
    "img_feat_vpde.shape, cl_vpde.shape"
   ]
  },
  {
   "cell_type": "code",
   "execution_count": 21,
   "id": "capable-current",
   "metadata": {},
   "outputs": [],
   "source": [
    "scaler_vpde = StandardScaler()\n",
    "scaler_vpde.fit(img_feat_vpde)\n",
    "X_scaled_vpde = scaler_vpde.transform(img_feat_vpde)"
   ]
  },
  {
   "cell_type": "code",
   "execution_count": 22,
   "id": "employed-assist",
   "metadata": {},
   "outputs": [],
   "source": [
    "img_feat_embedded_vpde = TSNE(n_components=2).fit_transform(X_scaled_vpde)"
   ]
  },
  {
   "cell_type": "code",
   "execution_count": 23,
   "id": "current-honey",
   "metadata": {},
   "outputs": [
    {
     "data": {
      "text/plain": [
       "(8855, 2)"
      ]
     },
     "execution_count": 23,
     "metadata": {},
     "output_type": "execute_result"
    }
   ],
   "source": [
    "img_feat_embedded_vpde.shape"
   ]
  },
  {
   "cell_type": "code",
   "execution_count": 24,
   "id": "alert-feelings",
   "metadata": {},
   "outputs": [],
   "source": [
    "tsne_vpde = img_feat_embedded_vpde"
   ]
  },
  {
   "cell_type": "code",
   "execution_count": 25,
   "id": "billion-valuation",
   "metadata": {},
   "outputs": [],
   "source": [
    "tx_vpde = tsne_vpde[:, 0]\n",
    "ty_vpde = tsne_vpde[:, 1]"
   ]
  },
  {
   "cell_type": "code",
   "execution_count": 26,
   "id": "choice-carter",
   "metadata": {},
   "outputs": [
    {
     "data": {
      "text/plain": [
       "((8855,), (8855,))"
      ]
     },
     "execution_count": 26,
     "metadata": {},
     "output_type": "execute_result"
    }
   ],
   "source": [
    "tx_vpde = scale(tx_vpde)\n",
    "ty_vpde = scale(ty_vpde)\n",
    "tx_vpde.shape, ty_vpde.shape"
   ]
  },
  {
   "cell_type": "code",
   "execution_count": 27,
   "id": "loaded-inquiry",
   "metadata": {},
   "outputs": [
    {
     "data": {
      "image/png": "[encoded data removed]",
      "text/plain": [
       "<Figure size 432x288 with 1 Axes>"
      ]
     },
     "metadata": {
      "needs_background": "light"
     },
     "output_type": "display_data"
    }
   ],
   "source": [
    "fig = plt.figure()\n",
    "ax = fig.add_subplot(111)\n",
    "\n",
    "labels_vpde = np.unique(cl_vpde)[:10]\n",
    "\n",
    "for l in labels_vpde:\n",
    "    mask = cl_vpde == l\n",
    "    curr_tx_vpde, curr_ty_vpde = tx_vpde[mask], ty_vpde[mask]\n",
    "    ax.scatter(curr_tx_vpde, curr_ty_vpde, label=l)\n",
    "\n",
    "ax.set_title('VPDE Visualization')\n",
    "ax.legend(loc='best')\n",
    "plt.savefig('plots/VPDE_easy.png')"
   ]
  },
  {
   "cell_type": "code",
   "execution_count": 28,
   "id": "opponent-harvard",
   "metadata": {},
   "outputs": [],
   "source": [
    "def tsne_plot_image(dataset):\n",
    "    img_feat, cl, rl, txt_feat = dataset.get_all_data()\n",
    "    \n",
    "    scaler = StandardScaler()\n",
    "    scaler.fit(img_feat)\n",
    "    X_scaled = scaler.transform(img_feat)\n",
    "    \n",
    "    tsne = TSNE(n_components=2).fit_transform(X_scaled)\n",
    "    \n",
    "    tx = tsne[:, 0]\n",
    "    ty = tsne[:, 1]\n",
    "    \n",
    "    tx = scale(tx)\n",
    "    ty = scale(ty)\n",
    "    \n",
    "    fig = plt.figure()\n",
    "    ax = fig.add_subplot(111)\n",
    "\n",
    "    labels = np.unique(cl)[:10]\n",
    "\n",
    "    for l in labels:\n",
    "        mask = cl == l\n",
    "        curr_tx, curr_ty = tx[mask], ty[mask]\n",
    "        ax.scatter(curr_tx, curr_ty, label=l)\n",
    "\n",
    "    ax.legend(loc='best')\n",
    "    plt.show()\n"
   ]
  },
  {
   "cell_type": "code",
   "execution_count": 29,
   "id": "detailed-jamaica",
   "metadata": {},
   "outputs": [
    {
     "data": {
      "image/png": "[encoded data removed]",
      "text/plain": [
       "<Figure size 432x288 with 1 Axes>"
      ]
     },
     "metadata": {
      "needs_background": "light"
     },
     "output_type": "display_data"
    }
   ],
   "source": [
    "tsne_plot_image(train_dataset)"
   ]
  },
  {
   "cell_type": "code",
   "execution_count": 30,
   "id": "secret-warren",
   "metadata": {},
   "outputs": [
    {
     "data": {
      "image/png": "[encoded data removed]",
      "text/plain": [
       "<Figure size 432x288 with 1 Axes>"
      ]
     },
     "metadata": {
      "needs_background": "light"
     },
     "output_type": "display_data"
    }
   ],
   "source": [
    "tsne_plot_image(VPDE_dataset)"
   ]
  },
  {
   "cell_type": "code",
   "execution_count": null,
   "id": "supposed-running",
   "metadata": {},
   "outputs": [],
   "source": []
  }
 ],
 "metadata": {
  "environment": {
   "name": "pytorch-gpu.1-8.m65",
   "type": "gcloud",
   "uri": "gcr.io/deeplearning-platform-release/pytorch-gpu.1-8:m65"
  },
  "kernelspec": {
   "display_name": "Python 3",
   "language": "python",
   "name": "python3"
  },
  "language_info": {
   "codemirror_mode": {
    "name": "ipython",
    "version": 3
   },
   "file_extension": ".py",
   "mimetype": "text/x-python",
   "name": "python",
   "nbconvert_exporter": "python",
   "pygments_lexer": "ipython3",
   "version": "3.7.10"
  }
 },
 "nbformat": 4,
 "nbformat_minor": 5
}
